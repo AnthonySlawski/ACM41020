{
 "cells": [
  {
   "cell_type": "code",
   "execution_count": 1,
   "id": "85984fb9",
   "metadata": {},
   "outputs": [],
   "source": [
    "import numpy as np\n",
    "import math\n",
    "import numpy.linalg as npl\n",
    "from numpy.linalg import norm"
   ]
  },
  {
   "cell_type": "code",
   "execution_count": 2,
   "id": "c1d2f730",
   "metadata": {},
   "outputs": [
    {
     "data": {
      "text/plain": [
       "(array([[-0.5       ,  0.67082039,  0.5       ],\n",
       "        [-0.5       ,  0.2236068 , -0.5       ],\n",
       "        [-0.5       , -0.2236068 , -0.5       ],\n",
       "        [-0.5       , -0.67082039,  0.5       ]]),\n",
       " array([[ -2.        ,  -5.        , -15.        ],\n",
       "        [  0.        ,  -2.23606798, -11.18033989],\n",
       "        [  0.        ,   0.        ,   2.        ]]))"
      ]
     },
     "execution_count": 2,
     "metadata": {},
     "output_type": "execute_result"
    }
   ],
   "source": [
    "A = np.array([\n",
    "    [1, 1, 1],\n",
    "    [1, 2, 4],\n",
    "    [1, 3, 9],\n",
    "    [1, 4, 16]\n",
    "], dtype=float)\n",
    "(Q,R) = npl.qr(A)\n",
    "(Q,R)"
   ]
  },
  {
   "cell_type": "code",
   "execution_count": null,
   "id": "1b1d8eed",
   "metadata": {},
   "outputs": [],
   "source": []
  }
 ],
 "metadata": {
  "kernelspec": {
   "display_name": "Python 3 (ipykernel)",
   "language": "python",
   "name": "python3"
  },
  "language_info": {
   "codemirror_mode": {
    "name": "ipython",
    "version": 3
   },
   "file_extension": ".py",
   "mimetype": "text/x-python",
   "name": "python",
   "nbconvert_exporter": "python",
   "pygments_lexer": "ipython3",
   "version": "3.9.12"
  }
 },
 "nbformat": 4,
 "nbformat_minor": 5
}
