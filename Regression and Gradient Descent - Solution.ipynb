{
 "cells": [
  {
   "cell_type": "markdown",
   "id": "c16ee2cf",
   "metadata": {},
   "source": [
    "# Regression and Gradient Descent\n",
    "\n",
    "Before we start, let's load some packages: [numpy](https://numpy.org) (for matrix manipulations), [cvxpy](https://www.cvxpy.org) (convex optimisation) and [matplotlib](https://matplotlib.org) (plotting).\n",
    "\n",
    "Note: if you are using anaconda python you may not have cvxpy installed by default. Install it using the command ``conda install -c conda-forge cvxpy``. You may also need to install matplotlib using ``conda install matplotlib``."
   ]
  },
  {
   "cell_type": "code",
   "execution_count": 4,
   "id": "fa912aa8",
   "metadata": {},
   "outputs": [],
   "source": [
    "import numpy as np\n",
    "from cvxpy import *\n",
    "import matplotlib.pyplot as plt"
   ]
  },
  {
   "cell_type": "markdown",
   "id": "5d78f3ac",
   "metadata": {},
   "source": [
    "## Analysing a dataset\n",
    "\n",
    "Imagine we have some data taken from an experiment and we would like to find a model that fits the data well.\n",
    "\n",
    "Here is some data I took earlier. Can you figure out a good model for this data? How would you verify that your model is a good fit for the data?"
   ]
  },
  {
   "cell_type": "code",
   "execution_count": 5,
   "id": "d1318e89",
   "metadata": {},
   "outputs": [],
   "source": [
    "data = np.array([\n",
    " [0.0, 3.35982],\n",
    " [0.5, 4.45784],\n",
    " [1.0, 4.98725],\n",
    " [1.5, 5.92751],\n",
    " [2.0, 6.99903],\n",
    " [2.5, 8.37272],\n",
    " [3.0, 9.22212],\n",
    " [3.5, 9.72170],\n",
    " [4.0, 11.0244],\n",
    " [4.5, 11.7995],\n",
    " [5.0, 13.0831]])"
   ]
  },
  {
   "cell_type": "markdown",
   "id": "583e1c76",
   "metadata": {},
   "source": [
    "The first thing we should do is try to plot the data to see if we can recognise anything"
   ]
  },
  {
   "cell_type": "code",
   "execution_count": 6,
   "id": "658ff4bd",
   "metadata": {},
   "outputs": [
    {
     "data": {
      "image/png": "[encoded data removed]",
      "text/plain": [
       "<Figure size 640x480 with 1 Axes>"
      ]
     },
     "metadata": {},
     "output_type": "display_data"
    }
   ],
   "source": [
    "p1 = plt.plot(data[:,0],data[:,1],'o')\n",
    "plt.xlabel('x')\n",
    "plt.ylabel('y')\n",
    "plt.show()"
   ]
  },
  {
   "cell_type": "markdown",
   "id": "583231f7",
   "metadata": {},
   "source": [
    "If we have a good idea for a model that might fit the data, then we can use _regression_ to look for the parameters that best fit the data. In this case it looks like we should consider a straight line $y(x)= \\beta_1 x + \\beta_0$ as a model. To fit the model to the data, we can use our data samples to write an (overdetermined) linear system of equations $ X \\beta = y$, where\n",
    "$$ X = \\begin{pmatrix} 1 & x_1 \\\\ \\vdots & \\vdots \\\\ 1 & x_n \\end{pmatrix}, \\quad y = \\begin{pmatrix} y_1 \\\\ \\vdots \\\\ y_n \\end{pmatrix}, \\quad \\beta = \\begin{pmatrix} \\beta_0 \\\\ \\beta_1 \\end{pmatrix}$$\n",
    "The matrix $X$ is an example where we have many rows but only two columns so this is an **over-constrained** problem (equivalently, the points don't all sit exactly on a line). As such we won't be able to find a perfect solution ($y$ is not in the column space of $X$). Instead, we can try to find the line that \"best\" fits the data. If we define \"best\" to mean the line that minimises the square of the 2-norm $||X\\beta - y||^2$ then this leads us to regression, in which we instead solve the system $X^T X \\beta = X^T y$, which does have a solution for $\\beta_0$ and $\\beta_1$. \n",
    "\n",
    "To formulate this as an optimisation problem, consider the system of equations:\n",
    "$$ y = X \\begin{pmatrix} a \\\\ b \\end{pmatrix} + \\epsilon$$\n",
    "where $\\epsilon$ is a vector of vertical distances of the points from the best fit line.\n",
    "Then, the optimisation problem is\n",
    "$$\\min_{\\beta} || \\epsilon ||^2$$\n",
    "\n",
    "The optimisation problem can be easily solved via the gradient descent method.\n",
    "The idea is to start from a given approximation $\\beta^{(0)}$ and to update it following the direction of the antigradient, which is the direction of steepest descent of the objective function at each point. The process generates a sequence of solution estimates $\\{\\beta^{(k)}\\}$ which, under certain hypotheses, converges to the true solution.\n",
    "\n",
    "First, let's construct the matrix $X$ and vector $y$:"
   ]
  },
  {
   "cell_type": "code",
   "execution_count": 7,
   "id": "13f897be-3d4d-4574-b7ff-297bdc5c883c",
   "metadata": {},
   "outputs": [],
   "source": [
    "n = data.shape[0]\n",
    "X = np.concatenate((np.ones((n,1)),data[:,0:1]),axis=1)\n",
    "y = data[:,1]"
   ]
  },
  {
   "cell_type": "markdown",
   "id": "708254dd",
   "metadata": {},
   "source": [
    "## Tasks\n",
    "\n",
    "1. Solve this using gradient descent with the optimal step-size.\n",
    "2. Solve this problem using cvxpy."
   ]
  },
  {
   "cell_type": "markdown",
   "id": "9e4235ee",
   "metadata": {},
   "source": [
    "### Task 1"
   ]
  },
  {
   "cell_type": "code",
   "execution_count": 9,
   "id": "0fe377a7",
   "metadata": {},
   "outputs": [],
   "source": [
    "XT=X.transpose()"
   ]
  },
  {
   "cell_type": "code",
   "execution_count": 10,
   "id": "d01ba0fe",
   "metadata": {},
   "outputs": [],
   "source": [
    "x0 =np.array([0,0])"
   ]
  },
  {
   "cell_type": "code",
   "execution_count": 11,
   "id": "c7c8387d",
   "metadata": {},
   "outputs": [],
   "source": [
    "r0 = XT @(y - X@x0)\n",
    "alpha0 = (np.linalg.norm(r0)/np.linalg.norm(X@r0))**2\n",
    "x1 = x0 - alpha0*XT@(X@x0 - y)"
   ]
  },
  {
   "cell_type": "code",
   "execution_count": 12,
   "id": "72180876",
   "metadata": {},
   "outputs": [],
   "source": [
    "r1 = XT @(y - X@x1)\n",
    "alpha1 = (np.linalg.norm(r1)/np.linalg.norm(X@r1))**2\n",
    "x2 = x1 - alpha1*XT@(X@x1 - y)"
   ]
  },
  {
   "cell_type": "code",
   "execution_count": 13,
   "id": "8a0f048a",
   "metadata": {},
   "outputs": [],
   "source": [
    "r2 = XT @(y - X@x2)\n",
    "alpha2 = (np.linalg.norm(r2)/np.linalg.norm(X@r2))**2\n",
    "x3 = x2 - alpha2*XT@(X@x2 - y)"
   ]
  },
  {
   "cell_type": "code",
   "execution_count": 14,
   "id": "39436700",
   "metadata": {},
   "outputs": [],
   "source": [
    "r3 = XT @(y - X@x3)\n",
    "alpha3 = (np.linalg.norm(r3)/np.linalg.norm(X@r3))**2\n",
    "x4 = x3 - alpha3*XT@(X@x3 - y)"
   ]
  },
  {
   "cell_type": "code",
   "execution_count": 15,
   "id": "2a09b5dc",
   "metadata": {},
   "outputs": [],
   "source": [
    "steps = np.array([x0,x1,x2,x3,x4]).transpose()"
   ]
  },
  {
   "cell_type": "code",
   "execution_count": 16,
   "id": "6168925a",
   "metadata": {},
   "outputs": [
    {
     "data": {
      "text/plain": [
       "[<matplotlib.lines.Line2D at 0x15e72d5b0>]"
      ]
     },
     "execution_count": 16,
     "metadata": {},
     "output_type": "execute_result"
    },
    {
     "data": {
      "image/png": "[encoded data removed]",
      "text/plain": [
       "<Figure size 640x480 with 1 Axes>"
      ]
     },
     "metadata": {},
     "output_type": "display_data"
    }
   ],
   "source": [
    "plt.plot(steps[0],steps[1])"
   ]
  },
  {
   "cell_type": "markdown",
   "id": "31a66119",
   "metadata": {},
   "source": [
    "### Task 2"
   ]
  },
  {
   "cell_type": "code",
   "execution_count": 17,
   "id": "d9eccde0",
   "metadata": {},
   "outputs": [
    {
     "name": "stdout",
     "output_type": "stream",
     "text": [
      "status:  optimal\n",
      "optimal value:  0.4226319631854529\n",
      "optimal variables:  3.2729100000000004 1.9255629090909088\n"
     ]
    }
   ],
   "source": [
    "# Create a (2) vector of variables\n",
    "Beta = Variable(2)\n",
    "\n",
    "# Create sum-of-squares objective function\n",
    "objective = Minimize(sum(square(X@Beta - y)))\n",
    "\n",
    "# Create problem and solve it\n",
    "prob = Problem(objective)\n",
    "prob.solve()\n",
    "\n",
    "print(\"status: \", prob.status)\n",
    "print(\"optimal value: \", prob.value)\n",
    "print(\"optimal variables: \", Beta[0].value, Beta[1].value)"
   ]
  }
 ],
 "metadata": {
  "kernelspec": {
   "display_name": "Python 3 (ipykernel)",
   "language": "python",
   "name": "python3"
  },
  "language_info": {
   "codemirror_mode": {
    "name": "ipython",
    "version": 3
   },
   "file_extension": ".py",
   "mimetype": "text/x-python",
   "name": "python",
   "nbconvert_exporter": "python",
   "pygments_lexer": "ipython3",
   "version": "3.12.2"
  }
 },
 "nbformat": 4,
 "nbformat_minor": 5
}
