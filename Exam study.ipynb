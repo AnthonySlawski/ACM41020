{
 "cells": [
  {
   "cell_type": "code",
   "execution_count": 8,
   "id": "1b3d8d07",
   "metadata": {},
   "outputs": [
    {
     "name": "stdout",
     "output_type": "stream",
     "text": [
      "Principal directions (V):\n",
      " [[-0.6  0.8]\n",
      " [ 0.8  0.6]]\n",
      "\n",
      "Coordinates with respect to principal directions (A_principal):\n",
      " [[ 5.0000000e+00  5.0000000e+00]\n",
      " [-1.0000000e+01  8.8817842e-16]\n",
      " [ 5.0000000e+00 -5.0000000e+00]]\n"
     ]
    }
   ],
   "source": [
    "import numpy as np\n",
    "\n",
    "# Matrix A\n",
    "A = np.array([[1, 7],\n",
    "              [6, -8],\n",
    "              [-7, 1]])\n",
    "\n",
    "# Perform Singular Value Decomposition\n",
    "U, Sigma, VT = np.linalg.svd(A)\n",
    "\n",
    "# Principal directions (columns of V)\n",
    "V = VT.T  # Transpose of VT gives V\n",
    "\n",
    "# Coordinates of points with respect to principal directions\n",
    "A_principal = A @ V\n",
    "\n",
    "# Print results\n",
    "print(\"Principal directions (V):\\n\", V)\n",
    "print(\"\\nCoordinates with respect to principal directions (A_principal):\\n\", A_principal)\n"
   ]
  },
  {
   "cell_type": "code",
   "execution_count": 9,
   "id": "4b1232e7",
   "metadata": {},
   "outputs": [
    {
     "name": "stdout",
     "output_type": "stream",
     "text": [
      "Principal directions (V):\n",
      " [[-0.6  0.8]\n",
      " [ 0.8  0.6]]\n",
      "\n",
      "Coordinates with respect to principal directions (A_principal):\n",
      " [[ 5.0000000e+00  5.0000000e+00]\n",
      " [-1.0000000e+01  8.8817842e-16]\n",
      " [ 5.0000000e+00 -5.0000000e+00]]\n",
      "\n",
      "Projection onto the first principal direction (B):\n",
      " [[-3.  4.]\n",
      " [ 6. -8.]\n",
      " [-3.  4.]]\n",
      "\n",
      "Projection onto the second principal direction (C):\n",
      " [[ 4.0000000e+00  3.0000000e+00]\n",
      " [ 8.8817842e-16  0.0000000e+00]\n",
      " [-4.0000000e+00 -3.0000000e+00]]\n"
     ]
    }
   ],
   "source": [
    "import numpy as np\n",
    "\n",
    "# Matrix A\n",
    "A = np.array([[1, 7],\n",
    "              [6, -8],\n",
    "              [-7, 1]])\n",
    "\n",
    "# Perform Singular Value Decomposition\n",
    "U, Sigma, VT = np.linalg.svd(A)\n",
    "\n",
    "# Principal directions (columns of V)\n",
    "V = VT.T  # Transpose of VT gives V\n",
    "\n",
    "# Coordinates of points with respect to principal directions\n",
    "A_principal = A @ V\n",
    "\n",
    "# Compute the projection matrices\n",
    "# First principal direction (v1)\n",
    "v1 = V[:, 0]  # First column of V\n",
    "v1_v1T = np.outer(v1, v1)  # Outer product of v1 with itself\n",
    "B = A @ v1_v1T  # Projection onto the first principal direction\n",
    "\n",
    "# Second principal direction (v2)\n",
    "v2 = V[:, 1]  # Second column of V\n",
    "v2_v2T = np.outer(v2, v2)  # Outer product of v2 with itself\n",
    "C = A @ v2_v2T  # Projection onto the second principal direction\n",
    "\n",
    "# Print the results\n",
    "print(\"Principal directions (V):\\n\", V)\n",
    "print(\"\\nCoordinates with respect to principal directions (A_principal):\\n\", A_principal)\n",
    "print(\"\\nProjection onto the first principal direction (B):\\n\", B)\n",
    "print(\"\\nProjection onto the second principal direction (C):\\n\", C)\n"
   ]
  },
  {
   "cell_type": "code",
   "execution_count": 11,
   "id": "1b3f77b3",
   "metadata": {},
   "outputs": [
    {
     "name": "stdout",
     "output_type": "stream",
     "text": [
      "Nuclear norm of A: ||A||_Nuclear = 19.318516525781362\n",
      "Nuclear norm of B: ||B||_Nuclear = 12.247448713915896\n",
      "Nuclear norm of C: ||C||_Nuclear = 7.071067811865476\n"
     ]
    }
   ],
   "source": [
    "import numpy as np\n",
    "\n",
    "# Matrix A\n",
    "A = np.array([[1, 7],\n",
    "              [6, -8],\n",
    "              [-7, 1]])\n",
    "\n",
    "# Perform Singular Value Decomposition for A\n",
    "U_A, Sigma_A, VT_A = np.linalg.svd(A)\n",
    "\n",
    "# Nuclear norm of A\n",
    "norm_A_nuclear = np.sum(Sigma_A)\n",
    "\n",
    "# Principal directions (columns of V)\n",
    "V = VT_A.T  # Transpose of VT gives V\n",
    "\n",
    "# First principal direction (v1)\n",
    "v1 = V[:, 0]  # First column of V\n",
    "v1_v1T = np.outer(v1, v1)  # Outer product of v1 with itself\n",
    "B = A @ v1_v1T  # Projection onto the first principal direction\n",
    "\n",
    "# Second principal direction (v2)\n",
    "v2 = V[:, 1]  # Second column of V\n",
    "v2_v2T = np.outer(v2, v2)  # Outer product of v2 with itself\n",
    "C = A @ v2_v2T  # Projection onto the second principal direction\n",
    "\n",
    "# Perform SVD for B and C\n",
    "U_B, Sigma_B, VT_B = np.linalg.svd(B)\n",
    "U_C, Sigma_C, VT_C = np.linalg.svd(C)\n",
    "\n",
    "# Nuclear norms of B and C\n",
    "norm_B_nuclear = np.sum(Sigma_B)\n",
    "norm_C_nuclear = np.sum(Sigma_C)\n",
    "\n",
    "# Print results\n",
    "print(\"Nuclear norm of A: ||A||_Nuclear =\", norm_A_nuclear)\n",
    "print(\"Nuclear norm of B: ||B||_Nuclear =\", norm_B_nuclear)\n",
    "print(\"Nuclear norm of C: ||C||_Nuclear =\", norm_C_nuclear)\n"
   ]
  },
  {
   "cell_type": "code",
   "execution_count": 22,
   "id": "60b8aee3",
   "metadata": {},
   "outputs": [
    {
     "data": {
      "text/plain": [
       "[<matplotlib.lines.Line2D at 0x1d667748f70>]"
      ]
     },
     "execution_count": 22,
     "metadata": {},
     "output_type": "execute_result"
    },
    {
     "data": {
      "image/png": "[encoded data removed]",
      "text/plain": [
       "<Figure size 432x288 with 1 Axes>"
      ]
     },
     "metadata": {
      "needs_background": "light"
     },
     "output_type": "display_data"
    }
   ],
   "source": [
    "import matplotlib.pyplot as plt\n",
    "x=np.array([1,6,-7])\n",
    "y=np.array([7,-8,1])\n",
    "\n",
    "\n",
    "\n",
    "\n",
    "x_1=np.array([-3,6,-3])\n",
    "y_1=np.array([4,-8,4])\n",
    "x_2=np.array([0,-0.6])\n",
    "y_2=np.array([0,0.8])\n",
    "plt.scatter(x,y)\n",
    "plt.scatter(x_1,y_1)\n",
    "plt.plot(x_2,y_2)"
   ]
  },
  {
   "cell_type": "code",
   "execution_count": 19,
   "id": "c59aef39",
   "metadata": {},
   "outputs": [
    {
     "data": {
      "image/png": "[encoded data removed]",
      "text/plain": [
       "<Figure size 576x576 with 1 Axes>"
      ]
     },
     "metadata": {
      "needs_background": "light"
     },
     "output_type": "display_data"
    }
   ],
   "source": [
    "import numpy as np\n",
    "import matplotlib.pyplot as plt\n",
    "\n",
    "# Matrix A\n",
    "A = np.array([[1, 7],\n",
    "              [6, -8],\n",
    "              [-7, 1]])\n",
    "\n",
    "# Perform Singular Value Decomposition\n",
    "U, Sigma, VT = np.linalg.svd(A)\n",
    "\n",
    "# Principal directions (columns of V)\n",
    "V = VT.T  # Transpose of VT gives V\n",
    "\n",
    "# Compute the projection matrices\n",
    "# First principal direction (v1)\n",
    "v1 = V[:, 0]  # First column of V\n",
    "v1_v1T = np.outer(v1, v1)  # Outer product of v1 with itself\n",
    "B = A @ v1_v1T  # Projection onto the first principal direction\n",
    "\n",
    "# Second principal direction (v2)\n",
    "v2 = V[:, 1]  # Second column of V\n",
    "v2_v2T = np.outer(v2, v2)  # Outer product of v2 with itself\n",
    "C = A @ v2_v2T  # Projection onto the second principal direction\n",
    "\n",
    "# Plot the results\n",
    "plt.figure(figsize=(8, 8))\n",
    "\n",
    "# Plot original points\n",
    "plt.scatter(A[:, 0], A[:, 1], color='blue', label='Original Points')\n",
    "\n",
    "# Plot principal directions\n",
    "origin = np.mean(A, axis=0)  # Use mean as origin\n",
    "plt.quiver(origin[0], origin[1], v1[0], v1[1], scale=3, scale_units='xy', color='red', angles='xy', label='First Principal Direction')\n",
    "plt.quiver(origin[0], origin[1], v2[0], v2[1], scale=3, scale_units='xy', color='green', angles='xy', label='Second Principal Direction')\n",
    "\n",
    "# Plot projections along first principal direction (B)\n",
    "plt.scatter(B[:, 0], B[:, 1], color='orange', label='Projection onto First Principal Direction')\n",
    "\n",
    "# Plot projections along second principal direction (C)\n",
    "plt.scatter(C[:, 0], C[:, 1], color='purple', label='Projection onto Second Principal Direction')\n",
    "\n",
    "# Configure plot\n",
    "plt.axhline(0, color='black', linewidth=0.5)\n",
    "plt.axvline(0, color='black', linewidth=0.5)\n",
    "plt.grid(color='gray', linestyle='--', linewidth=0.5)\n",
    "plt.xlabel('x')\n",
    "plt.ylabel('y')\n",
    "plt.title('PCA Visualization')\n",
    "plt.legend()\n",
    "plt.axis('equal')\n",
    "\n",
    "# Show plot\n",
    "plt.show()\n"
   ]
  },
  {
   "cell_type": "code",
   "execution_count": 2,
   "id": "6e97f744",
   "metadata": {},
   "outputs": [
    {
     "data": {
      "text/plain": [
       "array([12.24744871,  7.07106781])"
      ]
     },
     "execution_count": 2,
     "metadata": {},
     "output_type": "execute_result"
    }
   ],
   "source": [
    "Sigma"
   ]
  },
  {
   "cell_type": "code",
   "execution_count": 4,
   "id": "20b5271e",
   "metadata": {},
   "outputs": [
    {
     "data": {
      "text/plain": [
       "array([[ 4.08248290e-01,  7.07106781e-01,  5.77350269e-01],\n",
       "       [-8.16496581e-01,  2.54316655e-16,  5.77350269e-01],\n",
       "       [ 4.08248290e-01, -7.07106781e-01,  5.77350269e-01]])"
      ]
     },
     "execution_count": 4,
     "metadata": {},
     "output_type": "execute_result"
    }
   ],
   "source": [
    "U"
   ]
  },
  {
   "cell_type": "code",
   "execution_count": 7,
   "id": "8b98e9c4",
   "metadata": {},
   "outputs": [
    {
     "name": "stdout",
     "output_type": "stream",
     "text": [
      "Resulting matrix:\n",
      "[[ 0.99877102  7.00038021]\n",
      " [ 6.00124987 -8.00166649]\n",
      " [-7.00002089  1.00128628]]\n",
      "[[ 5.00104156e+00  4.99924494e+00]\n",
      " [-1.00020831e+01 -7.10505732e-16]\n",
      " [ 5.00104156e+00 -4.99924494e+00]]\n"
     ]
    }
   ],
   "source": [
    "import numpy as np\n",
    "\n",
    "# Define the matrices\n",
    "U = np.array([\n",
    "    [1/np.sqrt(6), 1/np.sqrt(2), 1/np.sqrt(3)],\n",
    "    [-2/np.sqrt(6), 0, 1/np.sqrt(3)],\n",
    "    [1/np.sqrt(6), -1/np.sqrt(2), 1/np.sqrt(3)]\n",
    "])\n",
    "\n",
    "Sigma = np.array([\n",
    "    [12.25, 0],\n",
    "    [0, 7.07],\n",
    "    [0, 0]\n",
    "])\n",
    "\n",
    "V = np.array([\n",
    "    [-0.6, 0.8],\n",
    "    [0.8, 0.6]\n",
    "])\n",
    "\n",
    "# Compute the product U @ Sigma @ V.T (V.T is the transpose of V)\n",
    "result = U @ Sigma @ V.T\n",
    "\n",
    "# Print the resulting matrix\n",
    "print(\"Resulting matrix:\")\n",
    "print(result)\n",
    "print(result@V)"
   ]
  },
  {
   "cell_type": "code",
   "execution_count": null,
   "id": "2469bfe8",
   "metadata": {},
   "outputs": [],
   "source": []
  }
 ],
 "metadata": {
  "kernelspec": {
   "display_name": "Python 3 (ipykernel)",
   "language": "python",
   "name": "python3"
  },
  "language_info": {
   "codemirror_mode": {
    "name": "ipython",
    "version": 3
   },
   "file_extension": ".py",
   "mimetype": "text/x-python",
   "name": "python",
   "nbconvert_exporter": "python",
   "pygments_lexer": "ipython3",
   "version": "3.9.12"
  }
 },
 "nbformat": 4,
 "nbformat_minor": 5
}
