{
 "cells": [
  {
   "cell_type": "markdown",
   "metadata": {},
   "source": [
    "# Getting started with Python\n",
    "\n",
    "This notebook will introduce you to the basics of Python as a programming language, with a particular focus on aspects that will be relevant to the parts of machine learning we will study in this module. You can find more extensive examples relevant to computational science in Niels Warburton's [ACM20030-Examples](https://github.com/nielsw2/ACM20030-Examples) repository.\n",
    "\n",
    "## Jupyter notebooks\n",
    "\n",
    "Jupyter notebooks such as this one provide an interactive way of working with Python, much like the notebook interface provided by the Mathematica front end. We can intersperse Python code with text descriptions, output and even graphics and plots.\n",
    "\n",
    "### Hello World\n",
    "\n",
    "To get started we will issue our first command. Place the cursor in the line below and use Shift+Return to execute it. The result returned will be printed on the following line."
   ]
  },
  {
   "cell_type": "code",
   "execution_count": 2,
   "metadata": {},
   "outputs": [
    {
     "data": {
      "text/plain": [
       "2"
      ]
     },
     "execution_count": 2,
     "metadata": {},
     "output_type": "execute_result"
    }
   ],
   "source": [
    "1+1"
   ]
  },
  {
   "cell_type": "markdown",
   "metadata": {},
   "source": [
    "Notice that input the line is labeled with In[1] and the output line is labeled with Out[1]. Notebooks are divided into Cells of different types. Possible types include Code and Markdown. You can change the type of a cell in the Cell -> Cell Type menu at the top of the window."
   ]
  },
  {
   "cell_type": "markdown",
   "metadata": {},
   "source": [
    "### Inserting new lines\n",
    "\n",
    "To insert a new cell anywhere, just click on an existing cell then type \"A\" to insert a cell Above or \"B\" to insert one Below the current cell. Try adding a new cell after this one."
   ]
  },
  {
   "cell_type": "markdown",
   "metadata": {},
   "source": [
    "To delete a cell, select it press \"D\" twice. Try deleting the new cell you created in the last step."
   ]
  },
  {
   "cell_type": "markdown",
   "metadata": {},
   "source": [
    "## The Basics"
   ]
  },
  {
   "cell_type": "markdown",
   "metadata": {},
   "source": [
    "### Variables\n",
    "\n",
    "To assign a value to a variable, we can use a single = sign. Let's start by inserting a new line and using it to set \"a\" to have the value \"100\"."
   ]
  },
  {
   "cell_type": "markdown",
   "metadata": {},
   "source": [
    "We can output the value of a variable by running an code cell with the name of the variable in it or by using the ``print`` function. Try it."
   ]
  },
  {
   "cell_type": "markdown",
   "metadata": {},
   "source": [
    "The four basic variable types in Python are:\n",
    "* *Boolean:* Logical variables which can be either True or False.\n",
    "* *Integer:* number without fractional part, e.g. -4, 5, 0, -3.\n",
    "* *Float:* rational numbers (or approximations of irrational ones), e.g. 3.432.\n",
    "* *String:* Any sequence of characters, e.g. “hello“.\n"
   ]
  },
  {
   "cell_type": "code",
   "execution_count": 3,
   "metadata": {},
   "outputs": [
    {
     "name": "stdout",
     "output_type": "stream",
     "text": [
      "<class 'bool'>\n",
      "<class 'int'>\n",
      "<class 'float'>\n",
      "<class 'str'>\n"
     ]
    }
   ],
   "source": [
    "a = True\n",
    "b = 5\n",
    "c = 3.2\n",
    "d = \"Python\"\n",
    "print(type(a))\n",
    "print(type(b))\n",
    "print(type(c))\n",
    "print(type(d))"
   ]
  },
  {
   "cell_type": "markdown",
   "metadata": {},
   "source": [
    "### Lists\n",
    "\n",
    "Lists are probably the handiest and most flexible compound data type. They are declared with square brackets [ ].  As with strings, individual elements of a list can be selected using the syntax `a[ind]`.\n",
    "\n",
    "Create a list:"
   ]
  },
  {
   "cell_type": "code",
   "execution_count": 4,
   "metadata": {},
   "outputs": [
    {
     "name": "stdout",
     "output_type": "stream",
     "text": [
      "[2, 5, 3, 9, 1, 5, 7, 6, 8]\n",
      "<class 'list'>\n"
     ]
    }
   ],
   "source": [
    "numbers = [2,5,3,9,1,5,7,6,8]\n",
    "print(numbers)\n",
    "print(type(numbers))"
   ]
  },
  {
   "cell_type": "markdown",
   "metadata": {},
   "source": [
    "Access individual elements:"
   ]
  },
  {
   "cell_type": "code",
   "execution_count": 5,
   "metadata": {},
   "outputs": [
    {
     "name": "stdout",
     "output_type": "stream",
     "text": [
      "The first item is 2\n",
      "The first 3 items are [2, 5, 3]\n",
      "The last item is 8\n"
     ]
    }
   ],
   "source": [
    "print('The first item is', numbers[0])\n",
    "print('The first 3 items are', numbers[0:3])\n",
    "print('The last item is', numbers[-1])"
   ]
  },
  {
   "cell_type": "markdown",
   "metadata": {},
   "source": [
    "Lists are mutable, which means that the individual elements can be altered"
   ]
  },
  {
   "cell_type": "code",
   "execution_count": 6,
   "metadata": {},
   "outputs": [
    {
     "name": "stdout",
     "output_type": "stream",
     "text": [
      "[2, 20, 3, 9, 1, 5, 7, 6, 8]\n"
     ]
    }
   ],
   "source": [
    "numbers[1] = 20\n",
    "print(numbers)"
   ]
  },
  {
   "cell_type": "markdown",
   "metadata": {},
   "source": [
    "#### Methods for lists\n",
    "Methods are operations that can be applied to an object, such as a list. The syntax for methods is `object.method(arguments)`. Below are examples of some methods that can be applied to lists. Run the code to see what each method does."
   ]
  },
  {
   "cell_type": "code",
   "execution_count": 7,
   "metadata": {
    "scrolled": true
   },
   "outputs": [
    {
     "name": "stdout",
     "output_type": "stream",
     "text": [
      "2\n",
      "['c', 'y', 'b', 'a', 'g', 'e', 'A', 'k', 'a', 'r', '2', 't', 'h', 'f', 'm']\n",
      "['c', 'y', 'b', 'a', 'e', 'A', 'k', 'a', 'r', '2', 't', 'h', 'f', 'm']\n",
      "['2', 'A', 'a', 'a', 'b', 'c', 'e', 'f', 'h', 'k', 'm', 'r', 't', 'y']\n",
      "['2', 'A', 'a', 'a', 'b', 'c', 'e', 'f', 'h', 'k', 'm', 'r', 't', 'y', 'n', 'j', 's', 'e']\n"
     ]
    }
   ],
   "source": [
    "letters = ['c','y','a','g','e','A','k','a','r','2','t','h','f','m']\n",
    "\n",
    "print(letters.count('a'))\n",
    "\n",
    "letters.insert(2,'b')\n",
    "print(letters)\n",
    "\n",
    "letters.remove('g')\n",
    "print(letters)\n",
    "\n",
    "letters.sort()\n",
    "print(letters)\n",
    "\n",
    "letters_new = ['n','j','s','e']\n",
    "letters.extend(letters_new)\n",
    "print(letters)"
   ]
  },
  {
   "cell_type": "markdown",
   "metadata": {},
   "source": [
    "**Note:** The method changes the object it is applied to, but has no output. The object must be printed afterwards to see the change."
   ]
  },
  {
   "cell_type": "markdown",
   "metadata": {},
   "source": [
    "**TIP:** You can see all of the methods that can be applied to a particular object by typing `object.` and hitting tab. A drop-down menu will appear with all of the methods."
   ]
  },
  {
   "cell_type": "code",
   "execution_count": 8,
   "metadata": {},
   "outputs": [
    {
     "ename": "SyntaxError",
     "evalue": "invalid syntax (1745807800.py, line 1)",
     "output_type": "error",
     "traceback": [
      "\u001b[1;36m  Input \u001b[1;32mIn [8]\u001b[1;36m\u001b[0m\n\u001b[1;33m    letters.\u001b[0m\n\u001b[1;37m            ^\u001b[0m\n\u001b[1;31mSyntaxError\u001b[0m\u001b[1;31m:\u001b[0m invalid syntax\n"
     ]
    }
   ],
   "source": [
    "letters."
   ]
  },
  {
   "cell_type": "markdown",
   "metadata": {},
   "source": [
    "If you are unsure what a particular method does, place a question mark after the method name, i.e. `object.method?`. When you run the code the help file will appear at the bottom of your browser."
   ]
  },
  {
   "cell_type": "code",
   "execution_count": 9,
   "metadata": {},
   "outputs": [],
   "source": [
    "letters.sort?"
   ]
  },
  {
   "cell_type": "markdown",
   "metadata": {},
   "source": [
    "### Tuples\n",
    "\n",
    "Tuples are similar to lists, but the are **immutable** (elements cannot be changed). Tuples are created using round brackets (). We still use square brackets to access individual elements."
   ]
  },
  {
   "cell_type": "code",
   "execution_count": 10,
   "metadata": {},
   "outputs": [
    {
     "name": "stdout",
     "output_type": "stream",
     "text": [
      "Charlie\n"
     ]
    }
   ],
   "source": [
    "people = ('Adam','Ben','Charlie')\n",
    "print(people[2])"
   ]
  },
  {
   "cell_type": "code",
   "execution_count": 11,
   "metadata": {},
   "outputs": [
    {
     "ename": "TypeError",
     "evalue": "'tuple' object does not support item assignment",
     "output_type": "error",
     "traceback": [
      "\u001b[1;31m---------------------------------------------------------------------------\u001b[0m",
      "\u001b[1;31mTypeError\u001b[0m                                 Traceback (most recent call last)",
      "Input \u001b[1;32mIn [11]\u001b[0m, in \u001b[0;36m<cell line: 1>\u001b[1;34m()\u001b[0m\n\u001b[1;32m----> 1\u001b[0m people[\u001b[38;5;241m2\u001b[39m] \u001b[38;5;241m=\u001b[39m \u001b[38;5;124m'\u001b[39m\u001b[38;5;124mDaniel\u001b[39m\u001b[38;5;124m'\u001b[39m\n",
      "\u001b[1;31mTypeError\u001b[0m: 'tuple' object does not support item assignment"
     ]
    }
   ],
   "source": [
    "people[2] = 'Daniel'  # this will result in an error message"
   ]
  },
  {
   "cell_type": "markdown",
   "metadata": {},
   "source": [
    "### Dictionaries\n",
    "\n",
    "We use dictionaries (dicts for short) when we want to store and retrieve things by their names rather their position. Each item is a *key:value* pair. The keys and the values can be numbers or strings. Dictionaries are declared using {}."
   ]
  },
  {
   "cell_type": "code",
   "execution_count": 12,
   "metadata": {},
   "outputs": [
    {
     "name": "stdout",
     "output_type": "stream",
     "text": [
      "97\n"
     ]
    }
   ],
   "source": [
    "weight = {'Adam' : 97,'Ben' : 105,'Charlie' : 80}\n",
    "\n",
    "print(weight['Adam'])"
   ]
  },
  {
   "cell_type": "markdown",
   "metadata": {},
   "source": [
    "Dicts are mutable so we can add to change individual elements, and also add to them"
   ]
  },
  {
   "cell_type": "code",
   "execution_count": 13,
   "metadata": {},
   "outputs": [
    {
     "name": "stdout",
     "output_type": "stream",
     "text": [
      "{'Adam': 97, 'Ben': 105, 'Charlie': 80, 'Daniel': 86}\n"
     ]
    }
   ],
   "source": [
    "weight['Daniel'] = 86\n",
    "print(weight)"
   ]
  },
  {
   "cell_type": "markdown",
   "metadata": {},
   "source": [
    "## Pass-by-reference\n",
    "If we create a new object `b` from `a`, changing `b` will also change `a`. This is known as **pass-by-reference**. "
   ]
  },
  {
   "cell_type": "code",
   "execution_count": 14,
   "metadata": {},
   "outputs": [
    {
     "name": "stdout",
     "output_type": "stream",
     "text": [
      "original: ['banana', 'apple', 'orange']\n",
      "copy: ['banana', 'apple', 'orange']\n",
      "copy after we append 'mango': ['banana', 'apple', 'orange', 'mango']\n",
      "original after we change the copy: ['banana', 'apple', 'orange', 'mango']\n"
     ]
    }
   ],
   "source": [
    "fruit = ['banana','apple','orange']\n",
    "fruit_copy = fruit\n",
    "print(\"original:\", fruit)\n",
    "print(\"copy:\", fruit_copy)\n",
    "fruit_copy.append('mango')\n",
    "print(\"copy after we append 'mango':\", fruit_copy)\n",
    "print(\"original after we change the copy:\", fruit)"
   ]
  },
  {
   "cell_type": "markdown",
   "metadata": {},
   "source": [
    "__TIP:__ Use `copy` to create a distinct copy that will not alter the original object"
   ]
  },
  {
   "cell_type": "code",
   "execution_count": 15,
   "metadata": {},
   "outputs": [
    {
     "name": "stdout",
     "output_type": "stream",
     "text": [
      "original: [1, 2, 3, 4, 5, 6]\n",
      "copy: [1, 2, 3, 4, 5, 6, 7, 8, 9, 10]\n",
      "original list after we change the copy: [1, 2, 3, 4, 5, 6]\n"
     ]
    }
   ],
   "source": [
    "num_list = [1,2,3,4,5,6] \n",
    "num_list_copy = num_list.copy()\n",
    "print('original:', num_list)\n",
    "num_list_copy.extend([7,8,9,10])\n",
    "print('copy:', num_list_copy)\n",
    "print('original list after we change the copy:', num_list)"
   ]
  },
  {
   "cell_type": "markdown",
   "metadata": {},
   "source": [
    "### Mathematical operations\n",
    "\n",
    "We can perform the standard Mathematical operations using the operators +, -, *, /, ** and (). Try doing some calculations using these operators."
   ]
  },
  {
   "cell_type": "markdown",
   "metadata": {},
   "source": [
    "Notice that in Python rationals are by default converted to approximate floating point numbers."
   ]
  },
  {
   "cell_type": "markdown",
   "metadata": {},
   "source": [
    "Note that sometimes we have to be careful about the order of operations. Python follows the standard mathematical precedence rules that we learn in school (**BODMAS** meaning **B**rackets, **O**perations, **D**ivision/**M**ultiplication, **A**ddition/**S**ubtraction)."
   ]
  },
  {
   "cell_type": "markdown",
   "metadata": {},
   "source": [
    "### Functions\n",
    "\n",
    "In Python, parenthesis is used for functions. Functions with multiple arguments have their arguments separated by a comma. Here are a few examples (we first load the math and cmath modules to provide some mathematical functions):"
   ]
  },
  {
   "cell_type": "code",
   "execution_count": 16,
   "metadata": {},
   "outputs": [],
   "source": [
    "import math, cmath"
   ]
  },
  {
   "cell_type": "code",
   "execution_count": 17,
   "metadata": {},
   "outputs": [
    {
     "data": {
      "text/plain": [
       "2.0"
      ]
     },
     "execution_count": 17,
     "metadata": {},
     "output_type": "execute_result"
    }
   ],
   "source": [
    "math.sqrt(4)"
   ]
  },
  {
   "cell_type": "code",
   "execution_count": 18,
   "metadata": {},
   "outputs": [
    {
     "data": {
      "text/plain": [
       "1.2246467991473532e-16"
      ]
     },
     "execution_count": 18,
     "metadata": {},
     "output_type": "execute_result"
    }
   ],
   "source": [
    "math.sin(math.pi)"
   ]
  },
  {
   "cell_type": "code",
   "execution_count": 19,
   "metadata": {},
   "outputs": [
    {
     "data": {
      "text/plain": [
       "-1.0"
      ]
     },
     "execution_count": 19,
     "metadata": {},
     "output_type": "execute_result"
    }
   ],
   "source": [
    "math.cos(math.pi)"
   ]
  },
  {
   "cell_type": "code",
   "execution_count": 20,
   "metadata": {},
   "outputs": [
    {
     "data": {
      "text/plain": [
       "(-1+1.2246467991473532e-16j)"
      ]
     },
     "execution_count": 20,
     "metadata": {},
     "output_type": "execute_result"
    }
   ],
   "source": [
    "cmath.exp(complex(0,cmath.pi))"
   ]
  },
  {
   "cell_type": "markdown",
   "metadata": {},
   "source": [
    "### Defining functions\n",
    "\n",
    "We define a function in Python by writing \"def\", then the name of the function, then parenthesis brackets with the names of the arguments inside, then \":\" and finally the definition of the function on the subsequent lines (all of which should be indented). We return a value from a function using \"return\". Let's look at an example:"
   ]
  },
  {
   "cell_type": "code",
   "execution_count": 21,
   "metadata": {},
   "outputs": [],
   "source": [
    "def f(x, y, z):\n",
    "    result = x**2 + 2*x*y-z**7\n",
    "    return result"
   ]
  },
  {
   "cell_type": "code",
   "execution_count": 22,
   "metadata": {},
   "outputs": [
    {
     "data": {
      "text/plain": [
       "20"
      ]
     },
     "execution_count": 22,
     "metadata": {},
     "output_type": "execute_result"
    }
   ],
   "source": [
    "f(3,2,1)"
   ]
  },
  {
   "cell_type": "markdown",
   "metadata": {},
   "source": [
    "Try defining a function $g(x,y)=(x^2+y^2)^{1/2}$ and evaluate it for different values of x and y."
   ]
  },
  {
   "cell_type": "code",
   "execution_count": 71,
   "metadata": {},
   "outputs": [],
   "source": [
    "def f(x, y, z):\n",
    "    return math.sqrt(x**2 + y**2)"
   ]
  },
  {
   "cell_type": "markdown",
   "metadata": {},
   "source": [
    "### Arrays\n",
    "\n",
    "When defining arrays for numeric purposes (as we will do throughout this module) we will use numpy. Then, to define arrays we use square brackets []. For example, let us define a vector (one-dimensional array), a matrix (two dimensions) and a rank-3 \"tensor\". First, we have to import numpy."
   ]
  },
  {
   "cell_type": "code",
   "execution_count": 23,
   "metadata": {},
   "outputs": [],
   "source": [
    "import numpy as np"
   ]
  },
  {
   "cell_type": "code",
   "execution_count": 40,
   "metadata": {},
   "outputs": [
    {
     "name": "stdout",
     "output_type": "stream",
     "text": [
      "[4 7]\n"
     ]
    }
   ],
   "source": [
    "# 1D\n",
    "v = np.array([4,7])\n",
    "print(v)"
   ]
  },
  {
   "cell_type": "code",
   "execution_count": 42,
   "metadata": {},
   "outputs": [
    {
     "name": "stdout",
     "output_type": "stream",
     "text": [
      "[[1 2]\n",
      " [3 4]]\n"
     ]
    }
   ],
   "source": [
    "# 2D\n",
    "M = np.array([[1,2],[3,4]])\n",
    "print(M)"
   ]
  },
  {
   "cell_type": "code",
   "execution_count": 76,
   "metadata": {},
   "outputs": [
    {
     "name": "stdout",
     "output_type": "stream",
     "text": [
      "[[[ 1  2  3]\n",
      "  [ 4  5  6]]\n",
      "\n",
      " [[ 7  8  9]\n",
      "  [10 11 12]]]\n"
     ]
    }
   ],
   "source": [
    "# 3D\n",
    "T = np.array([[[1,2,3],[4,5,6]],[[7,8,9],[10,11,12]]])\n",
    "print(T)"
   ]
  },
  {
   "cell_type": "markdown",
   "metadata": {},
   "source": [
    "#### Generating Arrays\n",
    "\n",
    "Sometimes it is convenient to generate an array from a formula for the entries. There are several ways we can achieve this is Python. Let's see a few ways to create a 1-D array of the numbers from 1 to 6."
   ]
  },
  {
   "cell_type": "markdown",
   "metadata": {},
   "source": [
    "Using for loops"
   ]
  },
  {
   "cell_type": "code",
   "execution_count": 83,
   "metadata": {},
   "outputs": [
    {
     "name": "stdout",
     "output_type": "stream",
     "text": [
      "[1. 2. 3. 4. 5. 6.]\n"
     ]
    }
   ],
   "source": [
    "x = np.array([])\n",
    "for el in np.arange(1,7):\n",
    "    x=np.append(x,el)\n",
    "print(x)"
   ]
  },
  {
   "cell_type": "markdown",
   "metadata": {},
   "source": [
    "Using list comprehension"
   ]
  },
  {
   "cell_type": "code",
   "execution_count": 84,
   "metadata": {},
   "outputs": [
    {
     "name": "stdout",
     "output_type": "stream",
     "text": [
      "[1 2 3 4 5 6]\n"
     ]
    }
   ],
   "source": [
    "squares = np.array([x for x in np.arange(1,7)])\n",
    "print(squares)"
   ]
  },
  {
   "cell_type": "markdown",
   "metadata": {},
   "source": [
    "#### Map\n",
    "\n",
    "Sometimes we already have an array and we want to apply a function to each element of the array. We can achieve this using map. Let's try mapping the sqrt function over our array of squares."
   ]
  },
  {
   "cell_type": "code",
   "execution_count": 85,
   "metadata": {},
   "outputs": [
    {
     "data": {
      "text/plain": [
       "array([1.        , 1.41421356, 1.73205081, 2.        , 2.23606798,\n",
       "       2.44948974])"
      ]
     },
     "execution_count": 85,
     "metadata": {},
     "output_type": "execute_result"
    }
   ],
   "source": [
    "np.array(list(map(np.sqrt, squares)))"
   ]
  },
  {
   "cell_type": "markdown",
   "metadata": {},
   "source": [
    "#### Vectorized functions\n",
    "\n",
    "In many cases there is an even easier way to apply a function element-wise to elements of an array. Many built-in functions are vectorized, which means that they are automatically applied to each array element without having to use map or other looping commands. For example, sqrt is vectorized so we have a simpler way to apply it to our array. Try it"
   ]
  },
  {
   "cell_type": "code",
   "execution_count": 86,
   "metadata": {},
   "outputs": [
    {
     "data": {
      "text/plain": [
       "array([1.        , 1.41421356, 1.73205081, 2.        , 2.23606798,\n",
       "       2.44948974])"
      ]
     },
     "execution_count": 86,
     "metadata": {},
     "output_type": "execute_result"
    }
   ],
   "source": [
    "np.sqrt(squares)"
   ]
  },
  {
   "cell_type": "markdown",
   "metadata": {},
   "source": [
    "#### Extracting parts of arrays\n",
    "\n",
    "We can extract parts of arrays using square brackets [...]. For example, extract the vector with components $T_{0,1,i}$ for all i=0,1 "
   ]
  },
  {
   "cell_type": "code",
   "execution_count": 89,
   "metadata": {},
   "outputs": [
    {
     "name": "stdout",
     "output_type": "stream",
     "text": [
      "4\n",
      "5\n"
     ]
    }
   ],
   "source": [
    "for el in [0,1]:\n",
    "    print(T[0][1][el])"
   ]
  },
  {
   "cell_type": "markdown",
   "metadata": {},
   "source": [
    "There are lots of different ways to specify the parts of an array that we want. For more information see the [numpy documentation](https://numpy.org/doc/stable/reference/arrays.indexing.html)."
   ]
  },
  {
   "cell_type": "markdown",
   "metadata": {},
   "source": [
    "#### Multiplication of arrays\n",
    "\n",
    "When we talk about multiplying arrays (whether they are vectors, matrices or tensors) we can actually mean several different things. The two most important possibilities are:\n",
    "\n",
    "* Standard matrix multiplication. We do this using the \"dot product\", which in Python is given by \"@\"."
   ]
  },
  {
   "cell_type": "code",
   "execution_count": 91,
   "metadata": {},
   "outputs": [
    {
     "data": {
      "text/plain": [
       "array([[ 7, 10],\n",
       "       [15, 22]])"
      ]
     },
     "execution_count": 91,
     "metadata": {},
     "output_type": "execute_result"
    }
   ],
   "source": [
    "M@M"
   ]
  },
  {
   "cell_type": "markdown",
   "metadata": {},
   "source": [
    "* Element-wise multiplication. This is what we get if use times, \"*\"."
   ]
  },
  {
   "cell_type": "code",
   "execution_count": 92,
   "metadata": {},
   "outputs": [
    {
     "data": {
      "text/plain": [
       "array([[[  1,   4,   9],\n",
       "        [ 16,  25,  36]],\n",
       "\n",
       "       [[ 49,  64,  81],\n",
       "        [100, 121, 144]]])"
      ]
     },
     "execution_count": 92,
     "metadata": {},
     "output_type": "execute_result"
    }
   ],
   "source": [
    "T*T"
   ]
  },
  {
   "cell_type": "markdown",
   "metadata": {},
   "source": [
    "## Classes\n",
    "\n",
    "From the Python documentation:\n",
    "> Classes provide a means of bundling data and functionality together. Creating a new class creates a new type of object, allowing new instances of that type to be made. Each class instance can have attributes attached to it for maintaining its state. Class instances can also have methods (defined by its class) for modifying its state.\n",
    "\n",
    "We can use classes to store data along with functions to operate on that data."
   ]
  },
  {
   "cell_type": "markdown",
   "metadata": {},
   "source": [
    "We can define a class by writing \"class\", then the name of the class, then \":\" followed by the definition of the functions in the class. There are certain special functions, most importantly __init__, which is run when an instance of a class is created. Here is a minimal example (we will encounter this again later when studying neural networks):"
   ]
  },
  {
   "cell_type": "code",
   "execution_count": 93,
   "metadata": {},
   "outputs": [],
   "source": [
    "class IdentityMatrix(object):\n",
    "\n",
    "    def __init__(self, n):\n",
    "        \"\"\"The number ``n`` gives the size of the matrix.\"\"\"\n",
    "        self.mat = np.identity(n)\n",
    "\n",
    "    def tr(self):\n",
    "        return np.trace(self.mat)"
   ]
  },
  {
   "cell_type": "markdown",
   "metadata": {},
   "source": [
    "This class has several variables for storing the data associated with the class. Notice that we use \"self\" to access a class's variables."
   ]
  },
  {
   "cell_type": "markdown",
   "metadata": {},
   "source": [
    "Create an instance of this class, access its data and run its methods."
   ]
  },
  {
   "cell_type": "code",
   "execution_count": 100,
   "metadata": {},
   "outputs": [
    {
     "name": "stdout",
     "output_type": "stream",
     "text": [
      "10.0\n",
      "[[1. 0. 0. 0. 0. 0. 0. 0. 0. 0.]\n",
      " [0. 1. 0. 0. 0. 0. 0. 0. 0. 0.]\n",
      " [0. 0. 1. 0. 0. 0. 0. 0. 0. 0.]\n",
      " [0. 0. 0. 1. 0. 0. 0. 0. 0. 0.]\n",
      " [0. 0. 0. 0. 1. 0. 0. 0. 0. 0.]\n",
      " [0. 0. 0. 0. 0. 1. 0. 0. 0. 0.]\n",
      " [0. 0. 0. 0. 0. 0. 1. 0. 0. 0.]\n",
      " [0. 0. 0. 0. 0. 0. 0. 1. 0. 0.]\n",
      " [0. 0. 0. 0. 0. 0. 0. 0. 1. 0.]\n",
      " [0. 0. 0. 0. 0. 0. 0. 0. 0. 1.]]\n"
     ]
    }
   ],
   "source": [
    "A=IdentityMatrix(n=10)\n",
    "print(A.tr())\n",
    "print(A.mat)"
   ]
  },
  {
   "cell_type": "markdown",
   "metadata": {},
   "source": [
    "## Plotting\n",
    "\n",
    "We can use the Matplotlib library to produce plots. First, we need to import matplotlib:"
   ]
  },
  {
   "cell_type": "code",
   "execution_count": 35,
   "metadata": {},
   "outputs": [],
   "source": [
    "import matplotlib.pyplot as plt"
   ]
  },
  {
   "cell_type": "markdown",
   "metadata": {},
   "source": [
    "Now, we create some data to plot:"
   ]
  },
  {
   "cell_type": "code",
   "execution_count": 36,
   "metadata": {},
   "outputs": [],
   "source": [
    "x = np.arange(0, 3*np.pi, 0.1)\n",
    "y = np.sin(x)"
   ]
  },
  {
   "cell_type": "markdown",
   "metadata": {},
   "source": [
    "You can also create 3D plots"
   ]
  },
  {
   "cell_type": "code",
   "execution_count": 37,
   "metadata": {},
   "outputs": [],
   "source": [
    "def f(x, y):\n",
    "    return np.sin(np.sqrt(x ** 2 + y ** 2))\n",
    "\n",
    "x = np.linspace(-6, 6, 30)\n",
    "y = np.linspace(-6, 6, 30)\n",
    "\n",
    "X, Y = np.meshgrid(x, y)\n",
    "Z = f(X, Y)"
   ]
  },
  {
   "cell_type": "code",
   "execution_count": 38,
   "metadata": {},
   "outputs": [
    {
     "data": {
      "text/plain": [
       "<matplotlib.contour.QuadContourSet at 0x1c559595220>"
      ]
     },
     "execution_count": 38,
     "metadata": {},
     "output_type": "execute_result"
    },
    {
     "data": {
      "image/png": "[encoded data removed]",
      "text/plain": [
       "<Figure size 432x288 with 1 Axes>"
      ]
     },
     "metadata": {
      "needs_background": "light"
     },
     "output_type": "display_data"
    }
   ],
   "source": [
    "ax = plt.axes(projection='3d')\n",
    "ax.contour3D(X, Y, Z, 50, cmap='binary')"
   ]
  },
  {
   "cell_type": "code",
   "execution_count": 39,
   "metadata": {},
   "outputs": [
    {
     "data": {
      "text/plain": [
       "<mpl_toolkits.mplot3d.art3d.Poly3DCollection at 0x1c55b8d1af0>"
      ]
     },
     "execution_count": 39,
     "metadata": {},
     "output_type": "execute_result"
    },
    {
     "data": {
      "image/png": "[encoded data removed]",
      "text/plain": [
       "<Figure size 432x288 with 1 Axes>"
      ]
     },
     "metadata": {
      "needs_background": "light"
     },
     "output_type": "display_data"
    }
   ],
   "source": [
    "ax = plt.axes(projection='3d')\n",
    "ax.plot_surface(X, Y, Z, cmap='viridis',\n",
    "                       linewidth=0, antialiased=False)"
   ]
  },
  {
   "cell_type": "markdown",
   "metadata": {},
   "source": [
    "Experiment with some of the other types of plot. A huge number of further examples can be found at https://matplotlib.org/gallery/index.html."
   ]
  },
  {
   "cell_type": "code",
   "execution_count": null,
   "metadata": {},
   "outputs": [],
   "source": []
  }
 ],
 "metadata": {
  "kernelspec": {
   "display_name": "Python 3 (ipykernel)",
   "language": "python",
   "name": "python3"
  },
  "language_info": {
   "codemirror_mode": {
    "name": "ipython",
    "version": 3
   },
   "file_extension": ".py",
   "mimetype": "text/x-python",
   "name": "python",
   "nbconvert_exporter": "python",
   "pygments_lexer": "ipython3",
   "version": "3.9.12"
  }
 },
 "nbformat": 4,
 "nbformat_minor": 4
}
